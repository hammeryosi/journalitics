{
 "cells": [
  {
   "cell_type": "code",
   "execution_count": 1,
   "metadata": {
    "collapsed": true
   },
   "outputs": [],
   "source": [
    "import pandas as pd"
   ]
  },
  {
   "cell_type": "code",
   "execution_count": 13,
   "metadata": {
    "collapsed": true
   },
   "outputs": [],
   "source": [
    "nameCountTable = pd.read_csv('../data/nameCounts.csv')"
   ]
  },
  {
   "cell_type": "code",
   "execution_count": 11,
   "metadata": {
    "collapsed": false
   },
   "outputs": [],
   "source": [
    "papers = list(pd.unique(countData['journal']))\n",
    "names = list(pd.unique(countData['name']))\n",
    "days = list(pd.unique(countData['date']))"
   ]
  },
  {
   "cell_type": "code",
   "execution_count": 67,
   "metadata": {
    "collapsed": false
   },
   "outputs": [],
   "source": [
    "startMon = (2016,1)\n",
    "endMon = (2016,12)\n",
    "countData = nameCountTable[nameCountTable['date'].apply(lambda x: \n",
    "                                                        x >= str(startMon[0]) + '-' + str(startMon[1]).zfill(2) and \n",
    "                                                        x <= str(endMon[0]) + '-' + str(endMon[1] + 1).zfill(2))]\n",
    "top = 20 \n",
    "countData['month'] = countData['date'].map(lambda x: x[:7])\n",
    "nameGroups = countData.groupby(['name', 'journal']).groups\n",
    "plotTable = pd.DataFrame([{'name': k[0], 'journal': k[1], 'count': sum(countData['count'][nameGroups[k]])}\n",
    "                         for k in nameGroups.keys()]).sort_values('count', ascending=False)\n",
    "allPaperGroups = plotTable.groupby('name').groups\n",
    "allPapersCount = [(k, sum(plotTable['count'][allPaperGroups[k]])) \n",
    "                  for k in allPaperGroups.keys()]\n",
    "topNames = [p[0] for p in sorted(allPapersCount, key=lambda x: x[1], reverse=True)[:top]]\n",
    "plotTable = plotTable[plotTable.apply(lambda x: x['name'] in topNames, axis=1)]\n",
    "\n",
    "\n",
    "\n"
   ]
  },
  {
   "cell_type": "code",
   "execution_count": 71,
   "metadata": {
    "collapsed": false
   },
   "outputs": [
    {
     "data": {
      "text/plain": [
       "'[{\"count\":4806,\"journal\":\"NYT\",\"name\":\"Donald Trump\"},{\"count\":2558,\"journal\":\"WSJ\",\"name\":\"Donald Trump\"},{\"count\":2296,\"journal\":\"NYT\",\"name\":\"Hillary Clinton\"},{\"count\":1482,\"journal\":\"NYT\",\"name\":\"Barack Obama\"},{\"count\":1411,\"journal\":\"NYDN\",\"name\":\"Donald Trump\"},{\"count\":1184,\"journal\":\"WSJ\",\"name\":\"Hillary Clinton\"},{\"count\":1021,\"journal\":\"WSJ\",\"name\":\"Barack Obama\"},{\"count\":626,\"journal\":\"NYDN\",\"name\":\"de Blasio\"},{\"count\":504,\"journal\":\"NYDN\",\"name\":\"Hillary Clinton\"},{\"count\":481,\"journal\":\"NYT\",\"name\":\"Bernie Sanders\"},{\"count\":330,\"journal\":\"NYT\",\"name\":\"Vladimir Putin\"},{\"count\":316,\"journal\":\"WSJ\",\"name\":\"Bernie Sanders\"},{\"count\":296,\"journal\":\"NYDN\",\"name\":\"Kanye West\"},{\"count\":295,\"journal\":\"NYDN\",\"name\":\"Kim Kardashian\"},{\"count\":273,\"journal\":\"NYDN\",\"name\":\"Andrew Cuomo\"},{\"count\":266,\"journal\":\"NYT\",\"name\":\"Rodrigo Duterte\"},{\"count\":265,\"journal\":\"NYDN\",\"name\":\"Barack Obama\"},{\"count\":250,\"journal\":\"NYT\",\"name\":\"Ted Cruz\"},{\"count\":248,\"journal\":\"WSJ\",\"name\":\"Gerard Baker\"},{\"count\":228,\"journal\":\"NYDN\",\"name\":\"Taylor Swift\"},{\"count\":222,\"journal\":\"WSJ\",\"name\":\"de Blasio\"},{\"count\":200,\"journal\":\"NYT\",\"name\":\"Angela Merkel\"},{\"count\":196,\"journal\":\"NYT\",\"name\":\"Tayyip Erdogan\"},{\"count\":191,\"journal\":\"NYT\",\"name\":\"Lewis Hamilton\"},{\"count\":190,\"journal\":\"NYT\",\"name\":\"Chris Christie\"},{\"count\":180,\"journal\":\"NYT\",\"name\":\"John Kerry\"},{\"count\":180,\"journal\":\"NYT\",\"name\":\"Theresa May\"},{\"count\":167,\"journal\":\"WSJ\",\"name\":\"Ted Cruz\"},{\"count\":163,\"journal\":\"NYT\",\"name\":\"de Blasio\"},{\"count\":157,\"journal\":\"NYT\",\"name\":\"Pope Francis\"},{\"count\":155,\"journal\":\"NYT\",\"name\":\"Andrew Cuomo\"},{\"count\":154,\"journal\":\"WSJ\",\"name\":\"Vladimir Putin\"},{\"count\":146,\"journal\":\"NYDN\",\"name\":\"Bernie Sanders\"},{\"count\":123,\"journal\":\"WSJ\",\"name\":\"Andrew Cuomo\"},{\"count\":115,\"journal\":\"WSJ\",\"name\":\"Chris Christie\"},{\"count\":110,\"journal\":\"WSJ\",\"name\":\"Theresa May\"},{\"count\":108,\"journal\":\"NYDN\",\"name\":\"Lewis Hamilton\"},{\"count\":100,\"journal\":\"WSJ\",\"name\":\"Angela Merkel\"},{\"count\":85,\"journal\":\"WSJ\",\"name\":\"Rodrigo Duterte\"},{\"count\":83,\"journal\":\"WSJ\",\"name\":\"Tayyip Erdogan\"},{\"count\":82,\"journal\":\"WSJ\",\"name\":\"Pope Francis\"},{\"count\":77,\"journal\":\"WSJ\",\"name\":\"John Kerry\"},{\"count\":72,\"journal\":\"NYDN\",\"name\":\"Ted Cruz\"},{\"count\":66,\"journal\":\"NYT\",\"name\":\"Kanye West\"},{\"count\":43,\"journal\":\"WSJ\",\"name\":\"Lewis Hamilton\"},{\"count\":32,\"journal\":\"NYDN\",\"name\":\"Vladimir Putin\"},{\"count\":28,\"journal\":\"NYDN\",\"name\":\"Chris Christie\"},{\"count\":28,\"journal\":\"NYDN\",\"name\":\"Pope Francis\"},{\"count\":24,\"journal\":\"NYT\",\"name\":\"Kim Kardashian\"},{\"count\":22,\"journal\":\"NYT\",\"name\":\"Taylor Swift\"},{\"count\":13,\"journal\":\"WSJ\",\"name\":\"Taylor Swift\"},{\"count\":10,\"journal\":\"WSJ\",\"name\":\"Kanye West\"},{\"count\":9,\"journal\":\"NYDN\",\"name\":\"John Kerry\"},{\"count\":8,\"journal\":\"NYT\",\"name\":\"Gerard Baker\"},{\"count\":4,\"journal\":\"NYDN\",\"name\":\"Gerard Baker\"},{\"count\":3,\"journal\":\"WSJ\",\"name\":\"Kim Kardashian\"},{\"count\":1,\"journal\":\"NYDN\",\"name\":\"Tayyip Erdogan\"},{\"count\":1,\"journal\":\"NYDN\",\"name\":\"Theresa May\"},{\"count\":1,\"journal\":\"NYDN\",\"name\":\"Angela Merkel\"}]'"
      ]
     },
     "execution_count": 71,
     "metadata": {},
     "output_type": "execute_result"
    }
   ],
   "source": [
    "plotTable.to_json(orient='records')"
   ]
  },
  {
   "cell_type": "code",
   "execution_count": 24,
   "metadata": {
    "collapsed": false
   },
   "outputs": [
    {
     "data": {
      "text/plain": [
       "'2016-2017'"
      ]
     },
     "execution_count": 24,
     "metadata": {},
     "output_type": "execute_result"
    }
   ],
   "source": [
    "str(endMon[0]) + '-' + str(endMon[0] + 1).zfill(2)"
   ]
  },
  {
   "cell_type": "code",
   "execution_count": null,
   "metadata": {
    "collapsed": true
   },
   "outputs": [],
   "source": []
  }
 ],
 "metadata": {
  "kernelspec": {
   "display_name": "Python [Root]",
   "language": "python",
   "name": "Python [Root]"
  },
  "language_info": {
   "codemirror_mode": {
    "name": "ipython",
    "version": 3
   },
   "file_extension": ".py",
   "mimetype": "text/x-python",
   "name": "python",
   "nbconvert_exporter": "python",
   "pygments_lexer": "ipython3",
   "version": "3.5.2"
  }
 },
 "nbformat": 4,
 "nbformat_minor": 0
}
