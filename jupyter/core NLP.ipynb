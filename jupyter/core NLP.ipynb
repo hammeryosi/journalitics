{
 "cells": [
  {
   "cell_type": "code",
   "execution_count": 1,
   "metadata": {
    "collapsed": true
   },
   "outputs": [],
   "source": [
    "from pycorenlp import StanfordCoreNLP\n",
    "nlp = StanfordCoreNLP('http://localhost:9000')\n",
    "import pandas as pd"
   ]
  },
  {
   "cell_type": "code",
   "execution_count": 30,
   "metadata": {
    "collapsed": true
   },
   "outputs": [],
   "source": [
    "def keywordsInSen(sen):\n",
    "    return [(m['text'], m['ner']) \n",
    "            for m in sen['entitymentions']]"
   ]
  },
  {
   "cell_type": "code",
   "execution_count": 49,
   "metadata": {
    "collapsed": false
   },
   "outputs": [],
   "source": [
    "txt = res['title'][0] + ' ' + res['summary'][0]"
   ]
  },
  {
   "cell_type": "code",
   "execution_count": 69,
   "metadata": {
    "collapsed": false
   },
   "outputs": [
    {
     "data": {
      "text/plain": [
       "[]"
      ]
     },
     "execution_count": 69,
     "metadata": {},
     "output_type": "execute_result"
    }
   ],
   "source": [
    "an = nlp.annotate(txt, properties={\n",
    "        'annotators': 'entitymentions',\n",
    "        'outputFormat': 'json'\n",
    "    })\n",
    "[(m['text'], m['ner']) for m in an['sentences'][0]['entitymentions']]"
   ]
  },
  {
   "cell_type": "code",
   "execution_count": 32,
   "metadata": {
    "collapsed": true
   },
   "outputs": [],
   "source": [
    "import pandas as pd"
   ]
  },
  {
   "cell_type": "code",
   "execution_count": 67,
   "metadata": {
    "collapsed": false
   },
   "outputs": [
    {
     "data": {
      "text/plain": [
       "{'sentences': [{'entitymentions': [],\n",
       "   'index': 0,\n",
       "   'tokens': [{'after': ' ',\n",
       "     'before': '',\n",
       "     'characterOffsetBegin': 0,\n",
       "     'characterOffsetEnd': 10,\n",
       "     'index': 1,\n",
       "     'lemma': 'unshakable',\n",
       "     'ner': 'O',\n",
       "     'originalText': 'Unshakable',\n",
       "     'pos': 'JJ',\n",
       "     'word': 'Unshakable'},\n",
       "    {'after': ' ',\n",
       "     'before': ' ',\n",
       "     'characterOffsetBegin': 11,\n",
       "     'characterOffsetEnd': 17,\n",
       "     'index': 2,\n",
       "     'lemma': 'Payday',\n",
       "     'ner': 'O',\n",
       "     'originalText': 'Payday',\n",
       "     'pos': 'NNP',\n",
       "     'word': 'Payday'},\n",
       "    {'after': '',\n",
       "     'before': ' ',\n",
       "     'characterOffsetBegin': 18,\n",
       "     'characterOffsetEnd': 23,\n",
       "     'index': 3,\n",
       "     'lemma': 'Loans',\n",
       "     'ner': 'O',\n",
       "     'originalText': 'Loans',\n",
       "     'pos': 'NNPS',\n",
       "     'word': 'Loans'},\n",
       "    {'after': ' ',\n",
       "     'before': '',\n",
       "     'characterOffsetBegin': 23,\n",
       "     'characterOffsetEnd': 24,\n",
       "     'index': 4,\n",
       "     'lemma': '.',\n",
       "     'ner': 'O',\n",
       "     'originalText': '.',\n",
       "     'pos': '.',\n",
       "     'word': '.'}]},\n",
       "  {'entitymentions': [],\n",
       "   'index': 1,\n",
       "   'tokens': [{'after': ' ',\n",
       "     'before': ' ',\n",
       "     'characterOffsetBegin': 25,\n",
       "     'characterOffsetEnd': 31,\n",
       "     'index': 1,\n",
       "     'lemma': 'people',\n",
       "     'ner': 'O',\n",
       "     'originalText': 'People',\n",
       "     'pos': 'NNS',\n",
       "     'word': 'People'},\n",
       "    {'after': ' ',\n",
       "     'before': ' ',\n",
       "     'characterOffsetBegin': 32,\n",
       "     'characterOffsetEnd': 35,\n",
       "     'index': 2,\n",
       "     'lemma': 'use',\n",
       "     'ner': 'O',\n",
       "     'originalText': 'use',\n",
       "     'pos': 'VBP',\n",
       "     'word': 'use'},\n",
       "    {'after': ' ',\n",
       "     'before': ' ',\n",
       "     'characterOffsetBegin': 36,\n",
       "     'characterOffsetEnd': 42,\n",
       "     'index': 3,\n",
       "     'lemma': 'payday',\n",
       "     'ner': 'O',\n",
       "     'originalText': 'payday',\n",
       "     'pos': 'JJ',\n",
       "     'word': 'payday'},\n",
       "    {'after': ' ',\n",
       "     'before': ' ',\n",
       "     'characterOffsetBegin': 43,\n",
       "     'characterOffsetEnd': 48,\n",
       "     'index': 4,\n",
       "     'lemma': 'loan',\n",
       "     'ner': 'O',\n",
       "     'originalText': 'loans',\n",
       "     'pos': 'NNS',\n",
       "     'word': 'loans'},\n",
       "    {'after': ' ',\n",
       "     'before': ' ',\n",
       "     'characterOffsetBegin': 49,\n",
       "     'characterOffsetEnd': 51,\n",
       "     'index': 5,\n",
       "     'lemma': 'to',\n",
       "     'ner': 'O',\n",
       "     'originalText': 'to',\n",
       "     'pos': 'TO',\n",
       "     'word': 'to'},\n",
       "    {'after': ' ',\n",
       "     'before': ' ',\n",
       "     'characterOffsetBegin': 52,\n",
       "     'characterOffsetEnd': 57,\n",
       "     'index': 6,\n",
       "     'lemma': 'avoid',\n",
       "     'ner': 'O',\n",
       "     'originalText': 'avoid',\n",
       "     'pos': 'VB',\n",
       "     'word': 'avoid'},\n",
       "    {'after': ' ',\n",
       "     'before': ' ',\n",
       "     'characterOffsetBegin': 58,\n",
       "     'characterOffsetEnd': 67,\n",
       "     'index': 7,\n",
       "     'lemma': 'borrowing',\n",
       "     'ner': 'O',\n",
       "     'originalText': 'borrowing',\n",
       "     'pos': 'NN',\n",
       "     'word': 'borrowing'},\n",
       "    {'after': ' ',\n",
       "     'before': ' ',\n",
       "     'characterOffsetBegin': 68,\n",
       "     'characterOffsetEnd': 72,\n",
       "     'index': 8,\n",
       "     'lemma': 'from',\n",
       "     'ner': 'O',\n",
       "     'originalText': 'from',\n",
       "     'pos': 'IN',\n",
       "     'word': 'from'},\n",
       "    {'after': ' ',\n",
       "     'before': ' ',\n",
       "     'characterOffsetBegin': 73,\n",
       "     'characterOffsetEnd': 79,\n",
       "     'index': 9,\n",
       "     'lemma': 'family',\n",
       "     'ner': 'O',\n",
       "     'originalText': 'family',\n",
       "     'pos': 'NN',\n",
       "     'word': 'family'},\n",
       "    {'after': ' ',\n",
       "     'before': ' ',\n",
       "     'characterOffsetBegin': 80,\n",
       "     'characterOffsetEnd': 83,\n",
       "     'index': 10,\n",
       "     'lemma': 'and',\n",
       "     'ner': 'O',\n",
       "     'originalText': 'and',\n",
       "     'pos': 'CC',\n",
       "     'word': 'and'},\n",
       "    {'after': '',\n",
       "     'before': ' ',\n",
       "     'characterOffsetBegin': 84,\n",
       "     'characterOffsetEnd': 91,\n",
       "     'index': 11,\n",
       "     'lemma': 'friend',\n",
       "     'ner': 'O',\n",
       "     'originalText': 'friends',\n",
       "     'pos': 'NNS',\n",
       "     'word': 'friends'},\n",
       "    {'after': ' ',\n",
       "     'before': '',\n",
       "     'characterOffsetBegin': 91,\n",
       "     'characterOffsetEnd': 92,\n",
       "     'index': 12,\n",
       "     'lemma': ',',\n",
       "     'ner': 'O',\n",
       "     'originalText': ',',\n",
       "     'pos': ',',\n",
       "     'word': ','},\n",
       "    {'after': ' ',\n",
       "     'before': ' ',\n",
       "     'characterOffsetBegin': 93,\n",
       "     'characterOffsetEnd': 96,\n",
       "     'index': 13,\n",
       "     'lemma': 'and',\n",
       "     'ner': 'O',\n",
       "     'originalText': 'and',\n",
       "     'pos': 'CC',\n",
       "     'word': 'and'},\n",
       "    {'after': ' ',\n",
       "     'before': ' ',\n",
       "     'characterOffsetBegin': 97,\n",
       "     'characterOffsetEnd': 99,\n",
       "     'index': 14,\n",
       "     'lemma': 'to',\n",
       "     'ner': 'O',\n",
       "     'originalText': 'to',\n",
       "     'pos': 'TO',\n",
       "     'word': 'to'},\n",
       "    {'after': ' ',\n",
       "     'before': ' ',\n",
       "     'characterOffsetBegin': 100,\n",
       "     'characterOffsetEnd': 105,\n",
       "     'index': 15,\n",
       "     'lemma': 'avoid',\n",
       "     'ner': 'O',\n",
       "     'originalText': 'avoid',\n",
       "     'pos': 'VB',\n",
       "     'word': 'avoid'},\n",
       "    {'after': ' ',\n",
       "     'before': ' ',\n",
       "     'characterOffsetBegin': 106,\n",
       "     'characterOffsetEnd': 113,\n",
       "     'index': 16,\n",
       "     'lemma': 'cut',\n",
       "     'ner': 'O',\n",
       "     'originalText': 'cutting',\n",
       "     'pos': 'VBG',\n",
       "     'word': 'cutting'},\n",
       "    {'after': ' ',\n",
       "     'before': ' ',\n",
       "     'characterOffsetBegin': 114,\n",
       "     'characterOffsetEnd': 118,\n",
       "     'index': 17,\n",
       "     'lemma': 'back',\n",
       "     'ner': 'O',\n",
       "     'originalText': 'back',\n",
       "     'pos': 'RB',\n",
       "     'word': 'back'},\n",
       "    {'after': ' ',\n",
       "     'before': ' ',\n",
       "     'characterOffsetBegin': 119,\n",
       "     'characterOffsetEnd': 126,\n",
       "     'index': 18,\n",
       "     'lemma': 'further',\n",
       "     'ner': 'O',\n",
       "     'originalText': 'further',\n",
       "     'pos': 'RBR',\n",
       "     'word': 'further'},\n",
       "    {'after': ' ',\n",
       "     'before': ' ',\n",
       "     'characterOffsetBegin': 127,\n",
       "     'characterOffsetEnd': 129,\n",
       "     'index': 19,\n",
       "     'lemma': 'on',\n",
       "     'ner': 'O',\n",
       "     'originalText': 'on',\n",
       "     'pos': 'IN',\n",
       "     'word': 'on'},\n",
       "    {'after': '',\n",
       "     'before': ' ',\n",
       "     'characterOffsetBegin': 130,\n",
       "     'characterOffsetEnd': 138,\n",
       "     'index': 20,\n",
       "     'lemma': 'expense',\n",
       "     'ner': 'O',\n",
       "     'originalText': 'expenses',\n",
       "     'pos': 'NNS',\n",
       "     'word': 'expenses'},\n",
       "    {'after': ' ',\n",
       "     'before': '',\n",
       "     'characterOffsetBegin': 138,\n",
       "     'characterOffsetEnd': 139,\n",
       "     'index': 21,\n",
       "     'lemma': '.',\n",
       "     'ner': 'O',\n",
       "     'originalText': '.',\n",
       "     'pos': '.',\n",
       "     'word': '.'}]},\n",
       "  {'entitymentions': [],\n",
       "   'index': 2,\n",
       "   'tokens': [{'after': ' ',\n",
       "     'before': ' ',\n",
       "     'characterOffsetBegin': 140,\n",
       "     'characterOffsetEnd': 143,\n",
       "     'index': 1,\n",
       "     'lemma': 'but',\n",
       "     'ner': 'O',\n",
       "     'originalText': 'But',\n",
       "     'pos': 'CC',\n",
       "     'word': 'But'},\n",
       "    {'after': ' ',\n",
       "     'before': ' ',\n",
       "     'characterOffsetBegin': 144,\n",
       "     'characterOffsetEnd': 148,\n",
       "     'index': 2,\n",
       "     'lemma': 'they',\n",
       "     'ner': 'O',\n",
       "     'originalText': 'they',\n",
       "     'pos': 'PRP',\n",
       "     'word': 'they'},\n",
       "    {'after': ' ',\n",
       "     'before': ' ',\n",
       "     'characterOffsetBegin': 149,\n",
       "     'characterOffsetEnd': 154,\n",
       "     'index': 3,\n",
       "     'lemma': 'often',\n",
       "     'ner': 'O',\n",
       "     'originalText': 'often',\n",
       "     'pos': 'RB',\n",
       "     'word': 'often'},\n",
       "    {'after': ' ',\n",
       "     'before': ' ',\n",
       "     'characterOffsetBegin': 155,\n",
       "     'characterOffsetEnd': 158,\n",
       "     'index': 4,\n",
       "     'lemma': 'end',\n",
       "     'ner': 'O',\n",
       "     'originalText': 'end',\n",
       "     'pos': 'VBP',\n",
       "     'word': 'end'},\n",
       "    {'after': ' ',\n",
       "     'before': ' ',\n",
       "     'characterOffsetBegin': 159,\n",
       "     'characterOffsetEnd': 161,\n",
       "     'index': 5,\n",
       "     'lemma': 'up',\n",
       "     'ner': 'O',\n",
       "     'originalText': 'up',\n",
       "     'pos': 'RP',\n",
       "     'word': 'up'},\n",
       "    {'after': ' ',\n",
       "     'before': ' ',\n",
       "     'characterOffsetBegin': 162,\n",
       "     'characterOffsetEnd': 167,\n",
       "     'index': 6,\n",
       "     'lemma': 'do',\n",
       "     'ner': 'O',\n",
       "     'originalText': 'doing',\n",
       "     'pos': 'VBG',\n",
       "     'word': 'doing'},\n",
       "    {'after': ' ',\n",
       "     'before': ' ',\n",
       "     'characterOffsetBegin': 168,\n",
       "     'characterOffsetEnd': 173,\n",
       "     'index': 7,\n",
       "     'lemma': 'those',\n",
       "     'ner': 'O',\n",
       "     'originalText': 'those',\n",
       "     'pos': 'DT',\n",
       "     'word': 'those'},\n",
       "    {'after': ' ',\n",
       "     'before': ' ',\n",
       "     'characterOffsetBegin': 174,\n",
       "     'characterOffsetEnd': 180,\n",
       "     'index': 8,\n",
       "     'lemma': 'thing',\n",
       "     'ner': 'O',\n",
       "     'originalText': 'things',\n",
       "     'pos': 'NNS',\n",
       "     'word': 'things'},\n",
       "    {'after': ' ',\n",
       "     'before': ' ',\n",
       "     'characterOffsetBegin': 181,\n",
       "     'characterOffsetEnd': 187,\n",
       "     'index': 9,\n",
       "     'lemma': 'anyway',\n",
       "     'ner': 'O',\n",
       "     'originalText': 'anyway',\n",
       "     'pos': 'RB',\n",
       "     'word': 'anyway'},\n",
       "    {'after': ' ',\n",
       "     'before': ' ',\n",
       "     'characterOffsetBegin': 188,\n",
       "     'characterOffsetEnd': 190,\n",
       "     'index': 10,\n",
       "     'lemma': 'to',\n",
       "     'ner': 'O',\n",
       "     'originalText': 'to',\n",
       "     'pos': 'TO',\n",
       "     'word': 'to'},\n",
       "    {'after': ' ',\n",
       "     'before': ' ',\n",
       "     'characterOffsetBegin': 191,\n",
       "     'characterOffsetEnd': 194,\n",
       "     'index': 11,\n",
       "     'lemma': 'pay',\n",
       "     'ner': 'O',\n",
       "     'originalText': 'pay',\n",
       "     'pos': 'VB',\n",
       "     'word': 'pay'},\n",
       "    {'after': ' ',\n",
       "     'before': ' ',\n",
       "     'characterOffsetBegin': 195,\n",
       "     'characterOffsetEnd': 199,\n",
       "     'index': 12,\n",
       "     'lemma': 'back',\n",
       "     'ner': 'O',\n",
       "     'originalText': 'back',\n",
       "     'pos': 'RP',\n",
       "     'word': 'back'},\n",
       "    {'after': ' ',\n",
       "     'before': ' ',\n",
       "     'characterOffsetBegin': 200,\n",
       "     'characterOffsetEnd': 203,\n",
       "     'index': 13,\n",
       "     'lemma': 'the',\n",
       "     'ner': 'O',\n",
       "     'originalText': 'the',\n",
       "     'pos': 'DT',\n",
       "     'word': 'the'},\n",
       "    {'after': '',\n",
       "     'before': ' ',\n",
       "     'characterOffsetBegin': 204,\n",
       "     'characterOffsetEnd': 208,\n",
       "     'index': 14,\n",
       "     'lemma': 'loan',\n",
       "     'ner': 'O',\n",
       "     'originalText': 'loan',\n",
       "     'pos': 'NN',\n",
       "     'word': 'loan'},\n",
       "    {'after': ' ',\n",
       "     'before': '',\n",
       "     'characterOffsetBegin': 208,\n",
       "     'characterOffsetEnd': 209,\n",
       "     'index': 15,\n",
       "     'lemma': ',',\n",
       "     'ner': 'O',\n",
       "     'originalText': ',',\n",
       "     'pos': ',',\n",
       "     'word': ','},\n",
       "    {'after': ' ',\n",
       "     'before': ' ',\n",
       "     'characterOffsetBegin': 210,\n",
       "     'characterOffsetEnd': 211,\n",
       "     'index': 16,\n",
       "     'lemma': 'a',\n",
       "     'ner': 'O',\n",
       "     'originalText': 'a',\n",
       "     'pos': 'DT',\n",
       "     'word': 'a'},\n",
       "    {'after': ' ',\n",
       "     'before': ' ',\n",
       "     'characterOffsetBegin': 212,\n",
       "     'characterOffsetEnd': 215,\n",
       "     'index': 17,\n",
       "     'lemma': 'new',\n",
       "     'ner': 'O',\n",
       "     'originalText': 'new',\n",
       "     'pos': 'JJ',\n",
       "     'word': 'new'},\n",
       "    {'after': ' ',\n",
       "     'before': ' ',\n",
       "     'characterOffsetBegin': 216,\n",
       "     'characterOffsetEnd': 222,\n",
       "     'index': 18,\n",
       "     'lemma': 'report',\n",
       "     'ner': 'O',\n",
       "     'originalText': 'report',\n",
       "     'pos': 'NN',\n",
       "     'word': 'report'},\n",
       "    {'after': '',\n",
       "     'before': ' ',\n",
       "     'characterOffsetBegin': 223,\n",
       "     'characterOffsetEnd': 228,\n",
       "     'index': 19,\n",
       "     'lemma': 'find',\n",
       "     'ner': 'O',\n",
       "     'originalText': 'finds',\n",
       "     'pos': 'VBZ',\n",
       "     'word': 'finds'},\n",
       "    {'after': ' ',\n",
       "     'before': '',\n",
       "     'characterOffsetBegin': 228,\n",
       "     'characterOffsetEnd': 229,\n",
       "     'index': 20,\n",
       "     'lemma': '.',\n",
       "     'ner': 'O',\n",
       "     'originalText': '.',\n",
       "     'pos': '.',\n",
       "     'word': '.'}]},\n",
       "  {'entitymentions': [],\n",
       "   'index': 3,\n",
       "   'tokens': [{'after': ' ',\n",
       "     'before': ' ',\n",
       "     'characterOffsetBegin': 230,\n",
       "     'characterOffsetEnd': 233,\n",
       "     'index': 1,\n",
       "     'lemma': 'the',\n",
       "     'ner': 'O',\n",
       "     'originalText': 'The',\n",
       "     'pos': 'DT',\n",
       "     'word': 'The'},\n",
       "    {'after': ' ',\n",
       "     'before': ' ',\n",
       "     'characterOffsetBegin': 234,\n",
       "     'characterOffsetEnd': 241,\n",
       "     'index': 2,\n",
       "     'lemma': 'average',\n",
       "     'ner': 'O',\n",
       "     'originalText': 'average',\n",
       "     'pos': 'JJ',\n",
       "     'word': 'average'},\n",
       "    {'after': ' ',\n",
       "     'before': ' ',\n",
       "     'characterOffsetBegin': 242,\n",
       "     'characterOffsetEnd': 248,\n",
       "     'index': 3,\n",
       "     'lemma': 'payday',\n",
       "     'ner': 'O',\n",
       "     'originalText': 'payday',\n",
       "     'pos': 'NN',\n",
       "     'word': 'payday'},\n",
       "    {'after': ' ',\n",
       "     'before': ' ',\n",
       "     'characterOffsetBegin': 249,\n",
       "     'characterOffsetEnd': 253,\n",
       "     'index': 4,\n",
       "     'lemma': 'loan',\n",
       "     'ner': 'O',\n",
       "     'originalText': 'loan',\n",
       "     'pos': 'NN',\n",
       "     'word': 'loan'},\n",
       "    {'after': '',\n",
       "     'before': ' ',\n",
       "     'characterOffsetBegin': 254,\n",
       "     'characterOffsetEnd': 257,\n",
       "     'index': 5,\n",
       "     'lemma': '...',\n",
       "     'ner': 'O',\n",
       "     'originalText': '...',\n",
       "     'pos': ':',\n",
       "     'word': '...'}]}]}"
      ]
     },
     "execution_count": 67,
     "metadata": {},
     "output_type": "execute_result"
    }
   ],
   "source": [
    "import json\n",
    "json.loads(an)\n"
   ]
  },
  {
   "cell_type": "code",
   "execution_count": 55,
   "metadata": {
    "collapsed": true
   },
   "outputs": [],
   "source": [
    "files = ['../data/headlines.csv', '../data/headlines2015.csv']\n",
    "target = '../data/allHeadlines.csv'\n",
    "\n",
    "def concatFiles(files, target):\n",
    "    tables = [pd.read_csv(f) for f in files]\n",
    "    result = pd.concat(tables, ignore_index=True)\n",
    "    result.to_csv(target, index = False, encoding='utf8')\n",
    "    return result\n"
   ]
  },
  {
   "cell_type": "code",
   "execution_count": 56,
   "metadata": {
    "collapsed": false
   },
   "outputs": [],
   "source": [
    "res = concatFiles(files, target)"
   ]
  },
  {
   "cell_type": "code",
   "execution_count": 59,
   "metadata": {
    "collapsed": false
   },
   "outputs": [
    {
     "data": {
      "text/plain": [
       "344434"
      ]
     },
     "execution_count": 59,
     "metadata": {},
     "output_type": "execute_result"
    }
   ],
   "source": [
    "len(res)"
   ]
  },
  {
   "cell_type": "code",
   "execution_count": 45,
   "metadata": {
    "collapsed": true
   },
   "outputs": [],
   "source": [
    "res.to_csv(target, index = False, encoding='utf8')"
   ]
  },
  {
   "cell_type": "code",
   "execution_count": 46,
   "metadata": {
    "collapsed": false
   },
   "outputs": [
    {
     "data": {
      "text/plain": [
       "158449"
      ]
     },
     "execution_count": 46,
     "metadata": {},
     "output_type": "execute_result"
    }
   ],
   "source": [
    "len(res)"
   ]
  },
  {
   "cell_type": "code",
   "execution_count": 59,
   "metadata": {
    "collapsed": true
   },
   "outputs": [],
   "source": [
    "table = pd.read_csv('../data/newHeadlines.csv')"
   ]
  },
  {
   "cell_type": "code",
   "execution_count": 60,
   "metadata": {
    "collapsed": false
   },
   "outputs": [],
   "source": [
    "line = table.iloc[78878,:]"
   ]
  },
  {
   "cell_type": "code",
   "execution_count": 61,
   "metadata": {
    "collapsed": true
   },
   "outputs": [],
   "source": [
    "txt = line['title'] + '. ' + line['summary']"
   ]
  },
  {
   "cell_type": "code",
   "execution_count": 62,
   "metadata": {
    "collapsed": false
   },
   "outputs": [
    {
     "data": {
      "text/plain": [
       "'Unshakable Payday Loans. People use payday loans to avoid borrowing from family and friends, and to avoid cutting back further on expenses. But they often end up doing those things anyway to pay back the loan, a new report finds. The average payday loan ...'"
      ]
     },
     "execution_count": 62,
     "metadata": {},
     "output_type": "execute_result"
    }
   ],
   "source": [
    "txt"
   ]
  },
  {
   "cell_type": "code",
   "execution_count": 45,
   "metadata": {
    "collapsed": true
   },
   "outputs": [],
   "source": [
    "import re"
   ]
  },
  {
   "cell_type": "code",
   "execution_count": 46,
   "metadata": {
    "collapsed": true
   },
   "outputs": [],
   "source": [
    "txt = re.sub('\\n', ' ', txt)\n",
    "txt = re.sub('\\s+', ' ', txt)"
   ]
  },
  {
   "cell_type": "code",
   "execution_count": 47,
   "metadata": {
    "collapsed": false
   },
   "outputs": [
    {
     "data": {
      "text/plain": [
       "'Unshakable Payday Loans. People use payday loans to avoid borrowing from family and friends, and to avoid cutting back further on expenses. But they often end up doing those things anyway to pay back the loan, a new report finds. The average payday loan \\x02...'"
      ]
     },
     "execution_count": 47,
     "metadata": {},
     "output_type": "execute_result"
    }
   ],
   "source": [
    "\n",
    "txt"
   ]
  },
  {
   "cell_type": "code",
   "execution_count": null,
   "metadata": {
    "collapsed": true
   },
   "outputs": [],
   "source": []
  }
 ],
 "metadata": {
  "kernelspec": {
   "display_name": "Python [Root]",
   "language": "python",
   "name": "Python [Root]"
  },
  "language_info": {
   "codemirror_mode": {
    "name": "ipython",
    "version": 3
   },
   "file_extension": ".py",
   "mimetype": "text/x-python",
   "name": "python",
   "nbconvert_exporter": "python",
   "pygments_lexer": "ipython3",
   "version": "3.5.2"
  }
 },
 "nbformat": 4,
 "nbformat_minor": 0
}
